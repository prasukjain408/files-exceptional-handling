{
  "nbformat": 4,
  "nbformat_minor": 0,
  "metadata": {
    "colab": {
      "provenance": []
    },
    "kernelspec": {
      "name": "python3",
      "display_name": "Python 3"
    },
    "language_info": {
      "name": "python"
    }
  },
  "cells": [
    {
      "cell_type": "markdown",
      "source": [
        "Q1. What is the difference between interpreted and compiled languages?\n",
        "  - The key difference between compiled and interpreted languages lies in how the source code is executed. Compiled languages are translated into machine code before runtime, allowing for faster execution, while interpreted languages are translated and executed line by line during runtime.\n",
        "\n",
        "Q2.  What is exception handling in Python?\n",
        "  - Exception handling in Python is a mechanism used to manage and respond to errors or unexpected events that occur during the execution of a program. These events, known as exceptions, disrupt the normal flow of the program and, if not handled, can lead to its abrupt termination.\n",
        "\n",
        "Q3. What is the purpose of the finally block in exception handling?\n",
        "  - The finally block in exception handling serves the purpose of executing a block of code regardless of whether an exception occurred in the try block or was caught by an except (or catch) block.\n",
        "\n",
        "Q4. What is logging in Python?\n",
        "  - Logging in Python refers to the process of recording events that occur within a program during its execution. These events can include information about the program's flow, warnings, errors, or critical failures. The primary purpose of logging is to provide insights into the application's behavior, aid in debugging, troubleshoot issues, and monitor the health and performance of the system.\n",
        "\n",
        "Q5.  What is the significance of the __del__ method in Python?\n",
        "  - The __del__ method in Python, often referred to as a destructor, holds significance primarily in resource management and cleanup operations. It is a special method within a class that is automatically invoked by the Python interpreter when an object is about to be destroyed, typically during garbage collection when its reference count drops to zero.\n",
        "\n",
        "Q6. What is the difference between import and from ... import in Python?\n",
        "  - Scope of Import:\n",
        "import brings in the entire module; from ... import brings in specific components.\n",
        "Access Method:\n",
        "import requires prefixing with the module name; from ... import allows direct access to imported components.\n",
        "Namespace Impact:\n",
        "import adds the module object to the namespace; from ... import adds only the specified components to the namespace.\n",
        "\n",
        "Q7.  How can you handle multiple exceptions in Python?\n",
        "  - You can use separate except blocks for each specific exception you want to handle differently. The interpreter will execute the first except block whose exception type matches the raised exception.\n",
        "\n",
        "Q8. What is the purpose of the with statement when handling files in Python?\n",
        "  - Guarantees file closure:\n",
        "It automatically handles the closing of the file once the code block within the with statement is exited, regardless of whether the block completes successfully or an exception occurs. This prevents resource leaks and potential data corruption that can arise from unclosed files.\n",
        "Simplifies error handling:\n",
        "By ensuring automatic closure, it eliminates the need for explicit try...finally blocks to close the file in case of exceptions, leading to cleaner and more concise code.\n",
        "Enhances readability:\n",
        "The with open(...) as file: syntax clearly indicates that a file is being opened and managed within a specific scope, improving code readability and understanding.\n",
        "\n",
        "Q9. What is the difference between multithreading and multiprocessing?\n",
        "  - Multithreading and multiprocessing are both techniques for achieving parallelism, but they differ in how they utilize system resources. Multithreading involves multiple threads within a single process, sharing the same memory space, while multiprocessing involves multiple processes, each with its own memory space.\n",
        "\n",
        "Q10. What are the advantages of using logging in a program?\n",
        "  - Performance Monitoring:\n",
        "Logs can capture performance metrics like execution times, resource utilization, and response times. Analyzing this data helps identify bottlenecks, optimize resource allocation, and ensure the application meets performance requirements.\n",
        "Security and Auditing:\n",
        "Logging can record security-related events, such as login attempts, access to sensitive data, and system changes. This creates an audit trail that can be used for security monitoring, detecting unauthorized activities, and ensuring compliance with regulations.\n",
        "Understanding Application Behavior:\n",
        "Logs provide insights into how users interact with the application and how the system responds. This information can be used to understand usage patterns, analyze feature adoption, and inform future development decisions.\n",
        "Post-Mortem Analysis:\n",
        "In the event of a system crash or critical failure, logs serve as a crucial source of information for understanding what went wrong and preventing similar issues in the future.\n",
        "\n",
        "Q11. What is memory management in Python?\n",
        "  - Memory management in Python refers to the system that automatically handles the allocation and deallocation of memory resources for Python programs. This process ensures efficient use of memory and prevents common memory-related errors that can occur in languages requiring manual memory management.\n",
        "\n",
        "Q12. What are the basic steps involved in exception handling in Python?\n",
        "  - The basic steps involved in exception handling in Python using try, except, else, and finally blocks are as follows:\n",
        "try Block:\n",
        "This block contains the code that is anticipated to potentially raise an exception.\n",
        "If an exception occurs within this block, the execution immediately jumps to the corresponding except block.\n",
        "except Block(s):\n",
        "These blocks follow the try block and are responsible for handling specific types of exceptions that might occur.\n",
        "You can have multiple except blocks to handle different exception types individually.\n",
        "A general except Exception as e: block can be used to catch any exception not caught by more specific except blocks.\n",
        "else Block (Optional):\n",
        "This block is executed only if no exception was raised within the try block.\n",
        "It's useful for code that should only run when the try block completes successfully.\n",
        "finally Block (Optional):\n",
        "This block is executed unconditionally, regardless of whether an exception occurred in the try block or was handled by an except block.\n",
        "It is commonly used for cleanup operations, such as closing files or releasing resources, ensuring they are performed even if an error occurs.\n",
        "\n",
        "Q13. Why is memory management important in Python?\n",
        "  - Efficient Resource Utilization:\n",
        "Python's automatic memory management aims to optimize memory usage by dynamically allocating and deallocating memory as needed. Knowing how this process works, including concepts like reference counting and garbage collection, allows developers to write more memory-efficient code, especially when dealing with large datasets or complex objects.\n",
        "Debugging and Troubleshooting:\n",
        "When memory-related issues arise (e.g., high memory consumption, slow performance), understanding Python's memory management mechanisms is essential for effective debugging. This knowledge helps identify the root cause of the problem and implement appropriate solutions, such as optimizing data structures or explicitly triggering garbage collection when necessary.\n",
        "Writing Optimized Code:\n",
        "While Python handles memory automatically, developers can still write code that is more memory-efficient. For instance, choosing appropriate data structures (e.g., array instead of list for numerical data) or using techniques like generators for large data streams can significantly reduce memory footprint and improve performance.\n",
        "\n",
        "Q14. What is the role of try and except in exception handling?\n",
        "  - The try and except blocks in programming, particularly in Python, are fundamental components of exception handling. Their roles are distinct yet complementary:\n",
        "try block:\n",
        "This block encloses the code segment that is anticipated to potentially raise an exception. The program attempts to execute the code within the try block. If no exception occurs during its execution, the except block is skipped.\n",
        "except block:\n",
        "This block is executed only if an exception is raised within the corresponding try block. It contains the code responsible for handling the specific error or exception that occurred. This handling can involve providing informative error messages, logging the error, gracefully exiting the program, or attempting to recover from the error.\n",
        "\n",
        "Q15.  How does Python's garbage collection system work?\n",
        "  - Reference Counting:\n",
        "This is the primary and most straightforward mechanism. Every object in Python maintains a reference count, which tracks how many references (variables, elements in data structures, etc.) point to it.\n",
        "When an object is created, its reference count is initialized.\n",
        "When a new reference is made to an object, its reference count increments.\n",
        "When a reference is deleted or reassigned, the count decrements.\n",
        "When an object's reference count drops to zero, it means no part of the program can access that object, and Python automatically deallocates the memory occupied by it.\n",
        "Generational Cyclic Garbage Collector:\n",
        "Reference counting alone cannot handle circular references, where objects indirectly or directly refer to each other, preventing their reference counts from ever reaching zero even if they are no longer reachable by the main program.\n",
        "To address this, Python employs a tracing garbage collector that specifically targets these cyclic references.\n",
        "This collector organizes objects into three \"generations\" (0, 1, and 2) based on their age and survival of previous collections.\n",
        "Generation 0: contains the newest objects. Most objects are expected to become garbage quickly and are collected frequently in this generation.\n",
        "Generation 1: contains objects that survived a collection in Generation 0.\n",
        "Generation 2: contains the oldest objects that have survived collections in both Generation 0 and Generation 1.\n",
        "The garbage collector periodically runs, focusing on detecting and reclaiming memory from unreachable objects within these generations, with older generations being collected less frequently. This generational approach optimizes performance by prioritizing the collection of younger, more likely-to-be-garbage objects.\n",
        "The gc module provides an interface to interact with and configure this cyclic garbage collector, including adjusting collection thresholds.\n",
        "\n",
        "Q16. What is the purpose of the else block in exception handling?\n",
        "  - Conditional Execution:\n",
        "The code within the else block will only execute if the try block completes without any exceptions occurring.\n",
        "Separation of Concerns:\n",
        "It allows for a clean separation between the \"safe\" code that depends on the successful execution of the try block and the error-handling logic in the except block.\n",
        "Alternative to Flag Variables:\n",
        "It can be used as a more structured alternative to using a boolean flag variable within the try block to indicate whether an exception occurred.\n",
        "\n",
        "Q17. What are the common logging levels in Python?\n",
        "  - DEBUG:\n",
        "Provides detailed information, typically useful only when diagnosing problems or during development.\n",
        "INFO:\n",
        "Confirms that things are working as expected and provides general information about the application's normal operation.\n",
        "WARNING:\n",
        "Indicates that something unexpected happened or might happen soon, but the application can still continue running.\n",
        "ERROR:\n",
        "Signifies a more serious problem that has prevented certain functions from executing.\n",
        "CRITICAL:\n",
        "Represents a severe error indicating that the program itself may be unable to continue running or is about to terminate.\n",
        "\n",
        "Q18.  What is the difference between os.fork() and multiprocessing in Python?\n",
        "  - os.fork():\n",
        "Low-level System Call:\n",
        "os.fork() is a direct wrapper around the Unix fork() system call. It creates a new process (child) that is an exact copy of the calling process (parent) at the moment of the fork.\n",
        "Copy-on-Write:\n",
        "It utilizes copy-on-write memory management, meaning physical memory pages are shared between parent and child until one process modifies them, at which point a copy is made.\n",
        "Platform-Specific:\n",
        "os.fork() is only available on POSIX-compliant systems (Linux, macOS, Unix-like). It is not supported on Windows.\n",
        "\n",
        "multiprocessing module:\n",
        "High-level Abstraction:\n",
        "The multiprocessing module provides a higher-level, more convenient API for creating and managing processes in Python. It abstracts away the complexities of system calls.\n",
        "Cross-Platform:\n",
        "It offers cross-platform compatibility, working on Windows, Linux, and macOS. On Windows, it typically uses a \"spawn\" method to create new processes, which involves starting a new Python interpreter instance.\n",
        "Built-in Tools:\n",
        "It includes various tools and classes for inter-process communication (Queues, Pipes), synchronization (Locks, Semaphores), and process management (Pools, Process objects).\n",
        "\n",
        "Q19. What is the importance of closing a file in Python?\n",
        "  - Data Integrity:\n",
        "When writing to a file, data may not be immediately written to the physical disk. Instead, it might be buffered in memory for efficiency. Closing the file explicitly flushes any remaining buffered data to the disk, ensuring that all written information is saved and preventing data loss or corruption in case of program termination or system crashes.\n",
        "File Locking:\n",
        "In certain operating systems, opening a file can lock it, preventing other processes or applications from accessing or modifying it. Failing to close the file keeps it locked, which can hinder other programs or users from interacting with the file, leading to access issues.\n",
        "Best Practice and Code Maintainability:\n",
        "Explicitly closing files is a fundamental best practice in programming. It makes the code more robust, readable, and easier to debug, as it clearly indicates when file operations are complete and resources are released.\n",
        "\n",
        "Q20. What is the difference between file.read() and file.readline() in Python?\n",
        "  - file.read(): This method reads the entire content of the file and returns it as a single string. It can take an optional argument specifying the number of characters (or bytes in binary mode) to read from the current position. If no argument is provided, it reads the entire file from the current position to the end.\n",
        "\n",
        "  file.readline(): This method reads a single line from the file and returns it as a string. It reads characters until it encounters a newline character (\\n) or reaches the end of the file. The newline character is typically included in the returned string. If the end of the file is reached and no more lines are available, it returns an empty string.\n",
        "\n",
        "Q21. What is the logging module in Python used for?\n",
        "  - Logging in Python is a crucial practice in software development that allows tracking events, debugging issues, and monitoring the health and performance of applications. It provides a structured and flexible way to record information about a program's execution, offering significant advantages over simply using print() statements for debugging.\n",
        "\n",
        "Q22. What is the os module in Python used for in file handling?\n",
        "  - The os module in Python provides a way to interact with the operating system, offering a wide range of functions for file and directory manipulation. It allows Python programs to perform tasks that are typically handled by the operating system, making them more robust and adaptable across different platforms (e.g., Windows, macOS, Linux).\n",
        "\n",
        "Q23. What are the challenges associated with memory management in Python?\n",
        "  - Excessive Memory Usage:\n",
        "Python's dynamic typing and object-oriented nature can sometimes lead to higher memory consumption compared to languages with more explicit memory control. Creating unnecessary copies of objects, especially large data structures, can quickly consume significant amounts of memory.\n",
        "Memory Fragmentation:\n",
        "Over time, repeated allocation and deallocation of memory can lead to memory fragmentation, where available memory is scattered in small, non-contiguous blocks. This can make it difficult for the Python interpreter to allocate large contiguous blocks of memory, potentially impacting performance.\n",
        "Performance Overhead of Automatic Management:\n",
        "While convenient, Python's automatic memory management (reference counting and garbage collection) introduces a certain level of performance overhead. The garbage collector periodically runs to identify and reclaim unused memory, which can introduce pauses in program execution.\n",
        "Lack of Fine-grained Control:\n",
        "Compared to languages like C or C++ that offer manual memory management, Python provides less direct control over memory allocation and deallocation. This can be a challenge in performance-critical applications where precise memory management is crucial.\n",
        "\n",
        "Q24. How do you raise an exception manually in Python?\n",
        "  - Specify the Exception Type:\n",
        "You can raise any of Python's built-in exception types (e.g., ValueError, TypeError, ZeroDivisionError, FileNotFoundError) or a custom exception you have defined.\n",
        "Provide an Optional Error Message:\n",
        "You can include a string as an argument to the exception type. This string will serve as the error message associated with the exception, providing more context about the cause of the error.\n",
        "\n",
        "Q25. Why is it important to use multithreading in certain applications?\n",
        "  - 1. Improved Performance:\n",
        "Parallel Execution:\n",
        "Multithreading allows applications to take advantage of multi-core processors, executing tasks concurrently on different cores, leading to faster processing times.\n",
        "Resource Optimization:\n",
        "Threads share the same memory space and resources of the process they belong to, making communication and data sharing efficient.\n",
        "Reduced Latency:\n",
        "By handling tasks concurrently, multithreading can reduce the time it takes for an application to respond to user requests, improving overall responsiveness.\n",
        "2. Enhanced Responsiveness:\n",
        "Non-Blocking Operations:\n",
        "Multithreading prevents one task from blocking the entire application, ensuring that the user interface remains responsive even when a lengthy operation is being performed.\n",
        "Foreground and Background Tasks:\n",
        "Applications can perform time-consuming tasks in the background while remaining responsive to user interactions in the foreground.\n",
        "Example:\n",
        "A web browser can load images and other content in the background while allowing the user to continue browsing the page.\n",
        "3. Concurrency and Parallelism:\n",
        "Efficient Task Handling:\n",
        "Multithreading enables applications to handle multiple tasks concurrently, such as processing user requests, managing network connections, or performing calculations.\n",
        "Real-Time Applications:\n",
        "In real-time systems, multithreading ensures that tasks are executed with minimal delay, maintaining smooth performance.\n",
        "Example:\n",
        "A game can handle player input, graphics rendering, and network communication simultaneously using different threads.\n",
        "\n",
        "\n",
        "\n"
      ],
      "metadata": {
        "id": "lKoGTo21YxGZ"
      }
    },
    {
      "cell_type": "markdown",
      "source": [
        "PRACTICAL QUESTIONS\n"
      ],
      "metadata": {
        "id": "CeRZXx1yf4G-"
      }
    },
    {
      "cell_type": "code",
      "source": [
        "# Q1. How can you open a file for writing in Python and write a string to it?\n",
        "with open(\"my_file.txt\", \"w\") as file_object:\n",
        "    file_object.write(\"This is a string to be written to the file.\")"
      ],
      "metadata": {
        "id": "eoQO_2zTfSyp"
      },
      "execution_count": 3,
      "outputs": []
    },
    {
      "cell_type": "code",
      "execution_count": 7,
      "metadata": {
        "colab": {
          "base_uri": "https://localhost:8080/"
        },
        "id": "Tp7Te744YnlF",
        "outputId": "9c9233d8-180c-405c-f91c-b562b613055d"
      },
      "outputs": [
        {
          "output_type": "stream",
          "name": "stdout",
          "text": [
            "This is the first line.\n",
            "And this is the second line.\n",
            "Finally, the third line.\n"
          ]
        }
      ],
      "source": [
        "# Q2. Write a Python program to read the contents of a file and print each line.\n",
        "def read_and_print_file(filename):\n",
        "    try:\n",
        "        with open(filename, 'r') as file:\n",
        "            for line in file:\n",
        "                print(line.strip())  # .strip() removes leading/trailing whitespace, including newlines\n",
        "    except FileNotFoundError:\n",
        "        print(f\"Error: The file '{filename}' was not found.\")\n",
        "    except Exception as e:\n",
        "        print(f\"An unexpected error occurred: {e}\")\n",
        "\n",
        "# Example usage:\n",
        "if __name__ == \"__main__\":\n",
        "    file_to_read = \"my_document.txt\"  # Replace with the actual file name\n",
        "\n",
        "    # Create a dummy file for demonstration if it doesn't exist\n",
        "    try:\n",
        "        with open(file_to_read, 'w') as f:\n",
        "            f.write(\"This is the first line.\\n\")\n",
        "            f.write(\"And this is the second line.\\n\")\n",
        "            f.write(\"Finally, the third line.\\n\")\n",
        "    except Exception as e:\n",
        "        print(f\"Could not create dummy file: {e}\")\n",
        "\n",
        "    read_and_print_file(file_to_read)"
      ]
    },
    {
      "cell_type": "code",
      "source": [
        "# Q3. How would you handle a case where the file doesn't exist while trying to open it for reading?\n",
        "try:\n",
        "    with open('my_file.txt', 'r') as file:\n",
        "        content = file.read()\n",
        "        print(\"File content:\")\n",
        "        print(content)\n",
        "except FileNotFoundError:\n",
        "    print(\"Error: The file 'my_file.txt' was not found.\")\n",
        "    # You can also provide default content or take other actions here\n",
        "    content = \"Default content because the file was not found.\"\n",
        "    print(\"Using default content:\")\n",
        "    print(content)\n",
        "print(\"Program continues after handling the error.\")"
      ],
      "metadata": {
        "colab": {
          "base_uri": "https://localhost:8080/"
        },
        "id": "hS1OTms3g8U6",
        "outputId": "0ed132c4-78f4-4f1c-840d-853f6f69fd96"
      },
      "execution_count": 8,
      "outputs": [
        {
          "output_type": "stream",
          "name": "stdout",
          "text": [
            "File content:\n",
            "This is a string to be written to the file.\n",
            "Program continues after handling the error.\n"
          ]
        }
      ]
    },
    {
      "cell_type": "code",
      "source": [
        "# Q4. Write a Python script that reads from one file and writes its content to another file.\n",
        "def copy_file_content(source_file_path, destination_file_path):\n",
        "\n",
        "    try:\n",
        "        with open(source_file_path, 'r') as source_file:\n",
        "            content = source_file.read()  # Read the entire content of the source file\n",
        "\n",
        "        with open(destination_file_path, 'w') as destination_file:\n",
        "            destination_file.write(content)  # Write the content to the destination file\n",
        "\n",
        "        print(f\"Content successfully copied from '{source_file_path}' to '{destination_file_path}'.\")\n",
        "\n",
        "    except FileNotFoundError:\n",
        "        print(f\"Error: One of the files was not found. Please check the paths.\")\n",
        "    except Exception as e:\n",
        "        print(f\"An unexpected error occurred: {e}\")\n",
        "\n",
        "# Example usage:\n",
        "if __name__ == \"__main__\":\n",
        "    # Create a dummy source file for demonstration\n",
        "    with open(\"source.txt\", \"w\") as f:\n",
        "        f.write(\"This is some sample text.\\n\")\n",
        "        f.write(\"This is the second line.\\n\")\n",
        "\n",
        "    source_file = \"source.txt\"\n",
        "    destination_file = \"destination.txt\"\n",
        "    copy_file_content(source_file, destination_file)"
      ],
      "metadata": {
        "colab": {
          "base_uri": "https://localhost:8080/"
        },
        "id": "3ES0QtAVhiRr",
        "outputId": "71544c74-45ba-4454-fd29-5756db16adc2"
      },
      "execution_count": 9,
      "outputs": [
        {
          "output_type": "stream",
          "name": "stdout",
          "text": [
            "Content successfully copied from 'source.txt' to 'destination.txt'.\n"
          ]
        }
      ]
    },
    {
      "cell_type": "code",
      "source": [
        "# Q5. How would you catch and handle division by zero error in Python?\n",
        "try:\n",
        "    numerator = 10\n",
        "    denominator = 0\n",
        "    result = numerator / denominator\n",
        "    print(f\"The result is: {result}\")\n",
        "except ZeroDivisionError:\n",
        "    print(\"Error: Cannot divide by zero!\")\n",
        "    # You can also assign a default value or take other recovery actions here\n",
        "    result = None\n",
        "    print(f\"Result set to: {result}\")"
      ],
      "metadata": {
        "colab": {
          "base_uri": "https://localhost:8080/"
        },
        "id": "-HHnF4Pchwmd",
        "outputId": "6a20cfec-b6a0-4562-93d8-e51cbdf041ab"
      },
      "execution_count": 10,
      "outputs": [
        {
          "output_type": "stream",
          "name": "stdout",
          "text": [
            "Error: Cannot divide by zero!\n",
            "Result set to: None\n"
          ]
        }
      ]
    },
    {
      "cell_type": "code",
      "source": [
        "# Q6. Write a Python program that logs an error message to a log file when a division by zero exception occurs.\n",
        "import logging\n",
        "\n",
        "\n",
        "logging.basicConfig(filename='division_errors.log', level=logging.ERROR,\n",
        "                    format='%(asctime)s - %(levelname)s - %(message)s')\n",
        "\n",
        "def safe_divide(numerator, denominator):\n",
        "\n",
        "    try:\n",
        "        result = numerator / denominator\n",
        "        print(f\"Division successful: {numerator} / {denominator} = {result}\")\n",
        "        return result\n",
        "    except ZeroDivisionError as e:\n",
        "        # Log the error message to the configured log file\n",
        "        logging.error(f\"Attempted division by zero: {numerator} / {denominator}. Error: {e}\")\n",
        "        print(f\"Error: Cannot divide by zero. See 'division_errors.log' for details.\")\n",
        "        return None\n",
        "\n",
        "# Example usage\n",
        "safe_divide(10, 2)\n",
        "safe_divide(5, 0)\n",
        "safe_divide(20, 4)\n",
        "safe_divide(7, 0)"
      ],
      "metadata": {
        "colab": {
          "base_uri": "https://localhost:8080/"
        },
        "id": "uZvTNPVKiA6q",
        "outputId": "cce26c68-ec4c-4310-9a2f-790636201605"
      },
      "execution_count": 11,
      "outputs": [
        {
          "output_type": "stream",
          "name": "stderr",
          "text": [
            "ERROR:root:Attempted division by zero: 5 / 0. Error: division by zero\n",
            "ERROR:root:Attempted division by zero: 7 / 0. Error: division by zero\n"
          ]
        },
        {
          "output_type": "stream",
          "name": "stdout",
          "text": [
            "Division successful: 10 / 2 = 5.0\n",
            "Error: Cannot divide by zero. See 'division_errors.log' for details.\n",
            "Division successful: 20 / 4 = 5.0\n",
            "Error: Cannot divide by zero. See 'division_errors.log' for details.\n"
          ]
        }
      ]
    },
    {
      "cell_type": "code",
      "source": [
        "# Q7.  How do you log information at different levels (INFO, ERROR, WARNING) in Python using the logging module?\n",
        "import logging\n",
        "logging.basicConfig(level=logging.INFO, format='%(levelname)s: %(message)s')\n",
        "\n",
        "logging.debug(\"This is a debug message.\")\n",
        "logging.info(\"This is an info message.\")\n",
        "logging.warning(\"This is a warning message.\")\n",
        "logging.error(\"This is an error message.\")\n",
        "logging.critical(\"This is a critical message.\")"
      ],
      "metadata": {
        "colab": {
          "base_uri": "https://localhost:8080/"
        },
        "id": "LXEYawj8iLvO",
        "outputId": "b45b7473-bd23-4d19-bdfe-3afe89d94327"
      },
      "execution_count": 13,
      "outputs": [
        {
          "output_type": "stream",
          "name": "stderr",
          "text": [
            "WARNING:root:This is a warning message.\n",
            "ERROR:root:This is an error message.\n",
            "CRITICAL:root:This is a critical message.\n"
          ]
        }
      ]
    },
    {
      "cell_type": "code",
      "source": [
        "# Q8. Write a program to handle a file opening error using exception handling.\n",
        "def read_file_with_exception_handling(filename):\n",
        "\n",
        "    try:\n",
        "        with open(filename, 'r') as file:\n",
        "            content = file.read()\n",
        "            print(f\"File '{filename}' opened successfully. Content:\\n{content}\")\n",
        "    except FileNotFoundError:\n",
        "        print(f\"Error: The file '{filename}' was not found.\")\n",
        "    except IOError as e:\n",
        "        print(f\"Error: An I/O error occurred while opening or reading '{filename}': {e}\")\n",
        "    except Exception as e:\n",
        "        print(f\"An unexpected error occurred: {e}\")\n",
        "\n",
        "# Example usage:\n",
        "# 1. Attempt to open a file that exists\n",
        "read_file_with_exception_handling(\"existing_file.txt\")\n",
        "\n",
        "# 2. Attempt to open a file that does not exist\n",
        "read_file_with_exception_handling(\"nonexistent_file.txt\")\n",
        "\n"
      ],
      "metadata": {
        "colab": {
          "base_uri": "https://localhost:8080/"
        },
        "id": "fizYXsEdigFH",
        "outputId": "47021a3d-92c2-4c50-80ef-973621ab0488"
      },
      "execution_count": 14,
      "outputs": [
        {
          "output_type": "stream",
          "name": "stdout",
          "text": [
            "Error: The file 'existing_file.txt' was not found.\n",
            "Error: The file 'nonexistent_file.txt' was not found.\n"
          ]
        }
      ]
    },
    {
      "cell_type": "code",
      "source": [
        "# Q9.  How can you read a file line by line and store its content in a list in Python?\n",
        "# Create a dummy file for demonstration if it doesn't exist\n",
        "try:\n",
        "    with open(\"your_file.txt\", \"w\") as f:\n",
        "        f.write(\"This is the first line.\\n\")\n",
        "        f.write(\"This is the second line.\\n\")\n",
        "        f.write(\"This is the third line.\\n\")\n",
        "except Exception as e:\n",
        "    print(f\"Could not create dummy file: {e}\")\n",
        "\n",
        "with open('your_file.txt', 'r') as file:\n",
        "    lines = file.readlines()\n",
        "# 'lines' now contains a list where each element is a line from the file\n",
        "print(lines)"
      ],
      "metadata": {
        "colab": {
          "base_uri": "https://localhost:8080/"
        },
        "id": "o5ToxJK7iyY4",
        "outputId": "3f497fd3-76e0-4d9b-cdd8-f17113e5884f"
      },
      "execution_count": 16,
      "outputs": [
        {
          "output_type": "stream",
          "name": "stdout",
          "text": [
            "['This is the first line.\\n', 'This is the second line.\\n', 'This is the third line.\\n']\n"
          ]
        }
      ]
    },
    {
      "cell_type": "code",
      "source": [
        "# Q10. How can you append data to an existing file in Python?\n",
        "# Open the file in append mode ('a')\n",
        "# If the file doesn't exist, it will be created.\n",
        "with open(\"my_file.txt\", \"a\") as file:\n",
        "    # Write the new content to the file\n",
        "    file.write(\"This is new content being appended.\\n\")\n",
        "    file.write(\"Another line of appended text.\\n\")\n",
        "\n",
        "# The 'with' statement ensures the file is automatically closed.\n",
        "# You can also explicitly close it if not using 'with':\n",
        "# file = open(\"my_file.txt\", \"a\")\n",
        "# file.write(\"More content.\\n\")\n",
        "# file.close()"
      ],
      "metadata": {
        "id": "99T8c9lejG2I"
      },
      "execution_count": 17,
      "outputs": []
    },
    {
      "cell_type": "code",
      "source": [
        "# Q11. Write a Python program that uses a try-except block to handle an error when attempting to access a\n",
        "# dictionary key that doesn't exist.\n",
        "# Define a sample dictionary\n",
        "my_dictionary = {\n",
        "    \"name\": \"Alice\",\n",
        "    \"age\": 30,\n",
        "    \"city\": \"New York\"\n",
        "}\n",
        "\n",
        "# Key to attempt accessing\n",
        "key_to_find = \"occupation\"\n",
        "\n",
        "try:\n",
        "    # Attempt to access the key\n",
        "    value = my_dictionary[key_to_find]\n",
        "    print(f\"Successfully accessed '{key_to_find}': {value}\")\n",
        "except KeyError:\n",
        "    # Handle the KeyError if the key does not exist\n",
        "    print(f\"Error: The key '{key_to_find}' does not exist in the dictionary.\")\n",
        "    print(\"Please try accessing an existing key like 'name', 'age', or 'city'.\")\n",
        "\n",
        "# Another example with an existing key\n",
        "key_to_find_existing = \"name\"\n",
        "try:\n",
        "    value_existing = my_dictionary[key_to_find_existing]\n",
        "    print(f\"\\nSuccessfully accessed '{key_to_find_existing}': {value_existing}\")\n",
        "except KeyError:\n",
        "    print(f\"Error: The key '{key_to_find_existing}' does not exist in the dictionary.\")"
      ],
      "metadata": {
        "colab": {
          "base_uri": "https://localhost:8080/"
        },
        "id": "HkSmX0NEjkZ5",
        "outputId": "8ea0cdff-1bca-46b9-d6d4-685948497c81"
      },
      "execution_count": 18,
      "outputs": [
        {
          "output_type": "stream",
          "name": "stdout",
          "text": [
            "Error: The key 'occupation' does not exist in the dictionary.\n",
            "Please try accessing an existing key like 'name', 'age', or 'city'.\n",
            "\n",
            "Successfully accessed 'name': Alice\n"
          ]
        }
      ]
    },
    {
      "cell_type": "code",
      "source": [
        "# Q12. Write a program that demonstrates using multiple except blocks to handle different types of exceptions.\n",
        "def perform_calculation():\n",
        "    try:\n",
        "        # Prompt user for input and attempt to convert it to an integer\n",
        "        user_input = input(\"Enter a number: \")\n",
        "        number = int(user_input)\n",
        "\n",
        "        # Attempt to perform a division operation\n",
        "        result = 100 / number\n",
        "        print(f\"Result of division: {result}\")\n",
        "\n",
        "    except ValueError:\n",
        "        # This block handles exceptions related to invalid input type\n",
        "        print(\"Error: Invalid input. Please enter a valid integer.\")\n",
        "\n",
        "    except ZeroDivisionError:\n",
        "        # This block handles exceptions related to division by zero\n",
        "        print(\"Error: Cannot divide by zero. Please enter a non-zero number.\")\n",
        "\n",
        "    except Exception as e:\n",
        "        # This is a general exception handler for any other unexpected errors\n",
        "        print(f\"An unexpected error occurred: {e}\")\n",
        "\n",
        "# Call the function to demonstrate exception handling\n",
        "perform_calculation()"
      ],
      "metadata": {
        "colab": {
          "base_uri": "https://localhost:8080/"
        },
        "id": "RnyaFYFQj57O",
        "outputId": "4940d2e3-be31-47eb-e97c-56bbba14f21f"
      },
      "execution_count": 19,
      "outputs": [
        {
          "output_type": "stream",
          "name": "stdout",
          "text": [
            "Enter a number: 12\n",
            "Result of division: 8.333333333333334\n"
          ]
        }
      ]
    },
    {
      "cell_type": "code",
      "source": [
        "# Q13. How would you check if a file exists before attempting to read it in Python?\n",
        "import os\n",
        "\n",
        "file_path = \"my_file.txt\"\n",
        "\n",
        "if os.path.exists(file_path):\n",
        "    print(f\"The file '{file_path}' exists. Attempting to read...\")\n",
        "    try:\n",
        "        with open(file_path, 'r') as f:\n",
        "            content = f.read()\n",
        "            print(\"File content:\", content)\n",
        "    except IOError as e:\n",
        "        print(f\"Error reading file: {e}\")\n",
        "else:\n",
        "    print(f\"The file '{file_path}' does not exist.\")"
      ],
      "metadata": {
        "colab": {
          "base_uri": "https://localhost:8080/"
        },
        "id": "iuEfQAivkJs3",
        "outputId": "1194311c-e346-40c5-b339-eed671acc9be"
      },
      "execution_count": 20,
      "outputs": [
        {
          "output_type": "stream",
          "name": "stdout",
          "text": [
            "The file 'my_file.txt' exists. Attempting to read...\n",
            "File content: This is a string to be written to the file.This is new content being appended.\n",
            "Another line of appended text.\n",
            "\n"
          ]
        }
      ]
    },
    {
      "cell_type": "code",
      "source": [
        "# Q14.  Write a program that uses the logging module to log both informational and error messages.\n",
        "import logging\n",
        "\n",
        "def configure_logger():\n",
        "    \"\"\"Configures the logging system to write logs to a file.\"\"\"\n",
        "    logging.basicConfig(\n",
        "        filename='application.log',  # Name of the log file\n",
        "        level=logging.INFO,         # Sets the minimum logging level to INFO\n",
        "        format='%(asctime)s - %(levelname)s - %(message)s' # Defines the log message format\n",
        "    )\n",
        "\n",
        "def perform_operation(value):\n",
        "    \"\"\"Simulates an operation that might produce an error.\"\"\"\n",
        "    try:\n",
        "        result = 10 / value\n",
        "        logging.info(f\"Operation successful: 10 divided by {value} is {result}\")\n",
        "    except ZeroDivisionError:\n",
        "        logging.error(\"Error: Attempted to divide by zero!\")\n",
        "    except Exception as e:\n",
        "        logging.error(f\"An unexpected error occurred: {e}\")\n",
        "\n",
        "if __name__ == \"__main__\":\n",
        "    configure_logger()\n",
        "\n",
        "    logging.info(\"Program started.\")\n",
        "\n",
        "    perform_operation(5)  # This will log an informational message\n",
        "    perform_operation(0)  # This will log an error message\n",
        "    perform_operation(2.5) # This will log an informational message\n",
        "\n",
        "    logging.info(\"Program finished.\")"
      ],
      "metadata": {
        "colab": {
          "base_uri": "https://localhost:8080/"
        },
        "id": "HJ9K2K5okbDW",
        "outputId": "f0626ee6-fda3-4562-f152-46be10681fc6"
      },
      "execution_count": 21,
      "outputs": [
        {
          "output_type": "stream",
          "name": "stderr",
          "text": [
            "ERROR:root:Error: Attempted to divide by zero!\n"
          ]
        }
      ]
    },
    {
      "cell_type": "code",
      "source": [
        "# Q!5. Write a Python program that prints the content of a file and handles the case when the file is empty.\n",
        "def print_file_content(file_path):\n",
        "\n",
        "    try:\n",
        "        with open(file_path, 'r') as file:\n",
        "            content = file.read()\n",
        "            if not content:  # Checks if the content string is empty\n",
        "                print(f\"The file '{file_path}' is empty.\")\n",
        "            else:\n",
        "                print(f\"Content of '{file_path}':\")\n",
        "                print(content)\n",
        "    except FileNotFoundError:\n",
        "        print(f\"Error: The file '{file_path}' was not found.\")\n",
        "    except Exception as e:\n",
        "        print(f\"An unexpected error occurred: {e}\")\n",
        "\n",
        "# Example usage:\n",
        "# Create a dummy file for testing\n",
        "with open(\"example.txt\", \"w\") as f:\n",
        "    f.write(\"This is a test file.\\n\")\n",
        "    f.write(\"It has multiple lines.\")\n",
        "\n",
        "with open(\"empty_file.txt\", \"w\") as f:\n",
        "    pass  # Creates an empty file\n",
        "\n",
        "print_file_content(\"example.txt\")\n",
        "print(\"\\n---\")\n",
        "print_file_content(\"empty_file.txt\")\n",
        "print(\"\\n---\")\n",
        "print_file_content(\"non_existent_file.txt\")"
      ],
      "metadata": {
        "colab": {
          "base_uri": "https://localhost:8080/"
        },
        "id": "B_yddNF9kmXV",
        "outputId": "30b33af3-306d-4446-931f-3b38f4f1743e"
      },
      "execution_count": 22,
      "outputs": [
        {
          "output_type": "stream",
          "name": "stdout",
          "text": [
            "Content of 'example.txt':\n",
            "This is a test file.\n",
            "It has multiple lines.\n",
            "\n",
            "---\n",
            "The file 'empty_file.txt' is empty.\n",
            "\n",
            "---\n",
            "Error: The file 'non_existent_file.txt' was not found.\n"
          ]
        }
      ]
    },
    {
      "cell_type": "code",
      "source": [
        "# Q16.  Demonstrate how to use memory profiling to check the memory usage of a small program."
      ],
      "metadata": {
        "id": "y-xvfznwk0zW"
      },
      "execution_count": 24,
      "outputs": []
    },
    {
      "cell_type": "code",
      "metadata": {
        "colab": {
          "base_uri": "https://localhost:8080/"
        },
        "id": "8017e2d7",
        "outputId": "96018913-c4bb-4dcf-e8b8-3ce98339c14d"
      },
      "source": [
        "!pip install memory-profiler"
      ],
      "execution_count": 25,
      "outputs": [
        {
          "output_type": "stream",
          "name": "stdout",
          "text": [
            "Collecting memory-profiler\n",
            "  Downloading memory_profiler-0.61.0-py3-none-any.whl.metadata (20 kB)\n",
            "Requirement already satisfied: psutil in /usr/local/lib/python3.11/dist-packages (from memory-profiler) (5.9.5)\n",
            "Downloading memory_profiler-0.61.0-py3-none-any.whl (31 kB)\n",
            "Installing collected packages: memory-profiler\n",
            "Successfully installed memory-profiler-0.61.0\n"
          ]
        }
      ]
    },
    {
      "cell_type": "code",
      "metadata": {
        "colab": {
          "base_uri": "https://localhost:8080/"
        },
        "id": "69cb0478",
        "outputId": "34a78636-a10b-4578-f986-a65777c2d0f2"
      },
      "source": [
        "# memory_test.py\n",
        "from memory_profiler import profile\n",
        "\n",
        "@profile\n",
        "def create_large_list():\n",
        "    \"\"\"\n",
        "    Creates a large list to demonstrate memory usage.\n",
        "    \"\"\"\n",
        "    data = [i * 2 for i in range(1000000)]  # Create a list of 1 million integers\n",
        "    return data\n",
        "\n",
        "if __name__ == \"__main__\":\n",
        "    my_list = create_large_list()\n",
        "    print(\"List created. Exiting.\")"
      ],
      "execution_count": 26,
      "outputs": [
        {
          "output_type": "stream",
          "name": "stdout",
          "text": [
            "ERROR: Could not find file /tmp/ipython-input-1529527837.py\n",
            "List created. Exiting.\n"
          ]
        }
      ]
    },
    {
      "cell_type": "code",
      "source": [
        "# Q17.  Write a Python program to create and write a list of numbers to a file, one number per line.\n",
        "def write_numbers_to_file(filename, number_list):\n",
        "\n",
        "    try:\n",
        "        with open(filename, 'w') as file:\n",
        "            for number in number_list:\n",
        "                file.write(str(number) + '\\n')\n",
        "        print(f\"Numbers successfully written to '{filename}'.\")\n",
        "    except IOError as e:\n",
        "        print(f\"Error writing to file '{filename}': {e}\")\n",
        "\n",
        "if __name__ == \"__main__\":\n",
        "    # Create a sample list of numbers\n",
        "    my_numbers = [10, 25, 30, 45, 60, 75, 90]\n",
        "\n",
        "    # Specify the output filename\n",
        "    output_file = \"numbers.txt\"\n",
        "\n",
        "    # Call the function to write the numbers to the file\n",
        "    write_numbers_to_file(output_file, my_numbers)\n",
        "\n",
        "    # Optional: Verify the content by reading the file\n",
        "    print(\"\\nContent of the file:\")\n",
        "    try:\n",
        "        with open(output_file, 'r') as file:\n",
        "            print(file.read())\n",
        "    except IOError as e:\n",
        "        print(f\"Error reading file '{output_file}': {e}\")"
      ],
      "metadata": {
        "colab": {
          "base_uri": "https://localhost:8080/"
        },
        "id": "bOgVVtEClaby",
        "outputId": "6174084a-b808-4488-fa20-3a181fe95e84"
      },
      "execution_count": 27,
      "outputs": [
        {
          "output_type": "stream",
          "name": "stdout",
          "text": [
            "Numbers successfully written to 'numbers.txt'.\n",
            "\n",
            "Content of the file:\n",
            "10\n",
            "25\n",
            "30\n",
            "45\n",
            "60\n",
            "75\n",
            "90\n",
            "\n"
          ]
        }
      ]
    },
    {
      "cell_type": "code",
      "source": [
        "# Q18. How would you implement a basic logging setup that logs to a file with rotation after 1MB?\n",
        "import logging\n",
        "from logging.handlers import RotatingFileHandler\n",
        "\n",
        "# Configure the logger\n",
        "logger = logging.getLogger('my_application_logger')\n",
        "logger.setLevel(logging.INFO) # Set the logging level (e.g., INFO, DEBUG, WARNING, ERROR, CRITICAL)\n",
        "\n",
        "# Create a RotatingFileHandler\n",
        "\n",
        "handler = RotatingFileHandler('app.log', maxBytes=1024*1024, backupCount=5)\n",
        "\n",
        "# Create a formatter for the log messages\n",
        "formatter = logging.Formatter('%(asctime)s - %(levelname)s - %(message)s')\n",
        "\n",
        "# Set the formatter for the handler\n",
        "handler.setFormatter(formatter)\n",
        "\n",
        "# Add the handler to the logger\n",
        "logger.addHandler(handler)\n",
        "\n",
        "# Example usage:\n",
        "logger.info(\"This is an informational message.\")\n",
        "logger.warning(\"This is a warning message.\")\n",
        "logger.error(\"This is an error message.\")"
      ],
      "metadata": {
        "colab": {
          "base_uri": "https://localhost:8080/"
        },
        "id": "HmrbIOyglaNz",
        "outputId": "e64b8011-6fb0-4792-d480-cfa4a0f32b04"
      },
      "execution_count": 28,
      "outputs": [
        {
          "output_type": "stream",
          "name": "stderr",
          "text": [
            "INFO:my_application_logger:This is an informational message.\n",
            "WARNING:my_application_logger:This is a warning message.\n",
            "ERROR:my_application_logger:This is an error message.\n"
          ]
        }
      ]
    },
    {
      "cell_type": "code",
      "source": [
        "# Q19. Write a program that handles both IndexError and KeyError using a try-except block.\n",
        "def access_data(data_source, key_or_index):\n",
        "\n",
        "    try:\n",
        "        if isinstance(data_source, list):\n",
        "            # Attempt to access an element by index in a list\n",
        "            result = data_source[key_or_index]\n",
        "            print(f\"Accessed list element: {result}\")\n",
        "        elif isinstance(data_source, dict):\n",
        "            # Attempt to access a value by key in a dictionary\n",
        "            result = data_source[key_or_index]\n",
        "            print(f\"Accessed dictionary value: {result}\")\n",
        "        else:\n",
        "            print(\"Unsupported data source type.\")\n",
        "    except (IndexError, KeyError) as e:\n",
        "        print(f\"An error occurred: {type(e).__name__} - {e}\")\n",
        "\n",
        "# Example Usage:\n",
        "\n",
        "# Handling IndexError\n",
        "my_list = [10, 20, 30]\n",
        "print(\"\\n--- Testing IndexError ---\")\n",
        "access_data(my_list, 1)  # Valid index\n",
        "access_data(my_list, 5)  # Invalid index\n",
        "\n",
        "# Handling KeyError\n",
        "my_dict = {\"name\": \"Alice\", \"age\": 30}\n",
        "print(\"\\n--- Testing KeyError ---\")\n",
        "access_data(my_dict, \"name\")  # Valid key\n",
        "access_data(my_dict, \"city\")  # Invalid key\n",
        "\n",
        "# Handling with an unsupported data type\n",
        "print(\"\\n--- Testing Unsupported Type ---\")\n",
        "access_data(\"hello\", 0)"
      ],
      "metadata": {
        "colab": {
          "base_uri": "https://localhost:8080/"
        },
        "id": "KlPAVRYjlZ-Y",
        "outputId": "b557e9f5-0968-4836-b56e-414d3afea5a9"
      },
      "execution_count": 29,
      "outputs": [
        {
          "output_type": "stream",
          "name": "stdout",
          "text": [
            "\n",
            "--- Testing IndexError ---\n",
            "Accessed list element: 20\n",
            "An error occurred: IndexError - list index out of range\n",
            "\n",
            "--- Testing KeyError ---\n",
            "Accessed dictionary value: Alice\n",
            "An error occurred: KeyError - 'city'\n",
            "\n",
            "--- Testing Unsupported Type ---\n",
            "Unsupported data source type.\n"
          ]
        }
      ]
    },
    {
      "cell_type": "code",
      "source": [
        "# Q20.  How would you open a file and read its contents using a context manager in Python?\n",
        "file_path = \"example.txt\"  # Replace with your file's path\n",
        "\n",
        "try:\n",
        "    with open(file_path, 'r') as file:\n",
        "        contents = file.read()\n",
        "        print(\"File contents:\")\n",
        "        print(contents)\n",
        "except FileNotFoundError:\n",
        "    print(f\"Error: The file '{file_path}' was not found.\")\n",
        "except Exception as e:\n",
        "    print(f\"An error occurred: {e}\")"
      ],
      "metadata": {
        "colab": {
          "base_uri": "https://localhost:8080/"
        },
        "id": "_xAWmzTYlZvj",
        "outputId": "d85888d5-066a-4cdf-e821-40faf51b4bf4"
      },
      "execution_count": 30,
      "outputs": [
        {
          "output_type": "stream",
          "name": "stdout",
          "text": [
            "File contents:\n",
            "This is a test file.\n",
            "It has multiple lines.\n"
          ]
        }
      ]
    },
    {
      "cell_type": "code",
      "source": [
        "# Q21.  Write a Python program that reads a file and prints the number of occurrences of a specific word.\n",
        "def count_word_occurrences(filepath, target_word):\n",
        "\n",
        "    count = 0\n",
        "    try:\n",
        "        with open(filepath, 'r', encoding='utf-8') as file:\n",
        "            for line in file:\n",
        "                # Convert line to lowercase for case-insensitive matching\n",
        "                # and split into words\n",
        "                words = line.lower().split()\n",
        "                # Count occurrences of the target word in the current line\n",
        "                count += words.count(target_word.lower())\n",
        "    except FileNotFoundError:\n",
        "        print(f\"Error: The file '{filepath}' was not found.\")\n",
        "        return -1  # Indicate an error\n",
        "    except Exception as e:\n",
        "        print(f\"An error occurred: {e}\")\n",
        "        return -1\n",
        "\n",
        "    return count\n",
        "\n",
        "# Example usage:\n",
        "file_to_analyze = \"sample.txt\"  # Replace with your file path\n",
        "word_to_find = \"python\"\n",
        "\n",
        "# Create a sample file for demonstration\n",
        "with open(file_to_analyze, 'w', encoding='utf-8') as f:\n",
        "    f.write(\"Python is a great programming language.\\n\")\n",
        "    f.write(\"Learn Python for data science.\\n\")\n",
        "    f.write(\"Python projects are fun.\\n\")\n",
        "\n",
        "occurrences = count_word_occurrences(file_to_analyze, word_to_find)\n",
        "\n",
        "if occurrences != -1:\n",
        "    print(f\"The word '{word_to_find}' appears {occurrences} times in '{file_to_analyze}'.\")\n"
      ],
      "metadata": {
        "colab": {
          "base_uri": "https://localhost:8080/"
        },
        "id": "4lPT7-0AlZhw",
        "outputId": "1bda61eb-052f-4232-87e8-7f739819b6df"
      },
      "execution_count": 31,
      "outputs": [
        {
          "output_type": "stream",
          "name": "stdout",
          "text": [
            "The word 'python' appears 3 times in 'sample.txt'.\n"
          ]
        }
      ]
    },
    {
      "cell_type": "code",
      "source": [
        "# Q22.  How can you check if a file is empty before attempting to read its contents?\n",
        "import os\n",
        "\n",
        "file_path = \"your_file.txt\"\n",
        "if os.path.exists(file_path):\n",
        "    if os.path.getsize(file_path) == 0:\n",
        "        print(f\"The file '{file_path}' is empty.\")\n",
        "    else:\n",
        "        print(f\"The file '{file_path}' is not empty.\")\n",
        "        # Proceed to read the file\n",
        "else:\n",
        "    print(f\"The file '{file_path}' does not exist.\")"
      ],
      "metadata": {
        "colab": {
          "base_uri": "https://localhost:8080/"
        },
        "id": "6QLRW3NclZS5",
        "outputId": "63fe6496-34a8-4ae9-e7f0-15fcc49eef97"
      },
      "execution_count": 33,
      "outputs": [
        {
          "output_type": "stream",
          "name": "stdout",
          "text": [
            "The file 'your_file.txt' is not empty.\n"
          ]
        }
      ]
    },
    {
      "cell_type": "code",
      "source": [
        "# Q23. Write a Python program that writes to a log file when an error occurs during file handling.\n",
        "import logging\n",
        "import os\n",
        "\n",
        "# Configure the logger\n",
        "log_file = 'file_handling_errors.log'\n",
        "logging.basicConfig(\n",
        "    filename=log_file,\n",
        "    level=logging.ERROR,  # Only log messages with severity ERROR or higher\n",
        "    format='%(asctime)s - %(levelname)s - %(message)s'\n",
        ")\n",
        "\n",
        "def handle_file_operation(filename, mode, content=None):\n",
        "    \"\"\"\n",
        "    Attempts a file operation and logs any errors that occur.\n",
        "    \"\"\"\n",
        "    try:\n",
        "        if mode == 'w':  # Write mode\n",
        "            with open(filename, mode) as f:\n",
        "                if content:\n",
        "                    f.write(content)\n",
        "            logging.info(f\"Successfully wrote to '{filename}'\")\n",
        "        elif mode == 'r':  # Read mode\n",
        "            with open(filename, mode) as f:\n",
        "                data = f.read()\n",
        "            logging.info(f\"Successfully read from '{filename}': {data[:50]}...\")\n",
        "            return data\n",
        "        else:\n",
        "            logging.warning(f\"Unsupported file mode: '{mode}'\")\n",
        "\n",
        "    except FileNotFoundError:\n",
        "        logging.error(f\"File not found: '{filename}'\")\n",
        "    except PermissionError:\n",
        "        logging.error(f\"Permission denied when accessing '{filename}'\")\n",
        "    except IOError as e:\n",
        "        logging.error(f\"An I/O error occurred with '{filename}': {e}\")\n",
        "    except Exception as e:\n",
        "        logging.error(f\"An unexpected error occurred during file handling: {e}\")\n",
        "\n",
        "# Example Usage:\n",
        "\n",
        "# 1. Attempt to write to a file (successful)\n",
        "handle_file_operation('my_document.txt', 'w', 'This is some sample content.')\n",
        "\n",
        "# 2. Attempt to read from a non-existent file (FileNotFoundError)\n",
        "handle_file_operation('non_existent_file.txt', 'r')\n",
        "print(f\"Check the '{log_file}' file for error logs.\")"
      ],
      "metadata": {
        "colab": {
          "base_uri": "https://localhost:8080/"
        },
        "id": "DmEhQEGYlYem",
        "outputId": "ad1fbd18-a854-4cf6-f406-c1d24f6489ff"
      },
      "execution_count": 35,
      "outputs": [
        {
          "output_type": "stream",
          "name": "stderr",
          "text": [
            "ERROR:root:File not found: 'non_existent_file.txt'\n"
          ]
        },
        {
          "output_type": "stream",
          "name": "stdout",
          "text": [
            "Check the 'file_handling_errors.log' file for error logs.\n"
          ]
        }
      ]
    },
    {
      "cell_type": "code",
      "source": [],
      "metadata": {
        "id": "YdkGGcyqlX9H"
      },
      "execution_count": null,
      "outputs": []
    }
  ]
}